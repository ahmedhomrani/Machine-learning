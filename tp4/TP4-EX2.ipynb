{
  "nbformat": 4,
  "nbformat_minor": 0,
  "metadata": {
    "colab": {
      "provenance": [],
      "collapsed_sections": []
    },
    "kernelspec": {
      "name": "python3",
      "display_name": "Python 3"
    },
    "language_info": {
      "name": "python"
    }
  },
  "cells": [
    {
      "cell_type": "code",
      "execution_count": 24,
      "metadata": {
        "id": "V2U90dm1uDKE"
      },
      "outputs": [],
      "source": [
        "from sklearn.datasets import fetch_openml\n",
        "mnist = fetch_openml('mnist_784', version=1)"
      ]
    },
    {
      "cell_type": "code",
      "source": [
        "# Le dataset principal qui contient toutes les images\n",
        "print (mnist.data.shape)\n",
        "\n",
        "# Le vecteur d'annotations associé au dataset (nombre entre 0 et 9)\n",
        "print (mnist.target.shape)"
      ],
      "metadata": {
        "colab": {
          "base_uri": "https://localhost:8080/"
        },
        "id": "q5ISn7L3uM1j",
        "outputId": "db8d0005-aff2-4c91-bbc7-43bcdd2150bd"
      },
      "execution_count": null,
      "outputs": [
        {
          "output_type": "stream",
          "name": "stdout",
          "text": [
            "(70000, 784)\n",
            "(70000,)\n"
          ]
        }
      ]
    },
    {
      "cell_type": "code",
      "source": [
        "import numpy as np\n",
        "data = mnist.data.sample(5000)\n",
        "target = mnist.target.iloc[list(data.index)]"
      ],
      "metadata": {
        "id": "4If0yHtmvc5d"
      },
      "execution_count": 25,
      "outputs": []
    },
    {
      "cell_type": "code",
      "source": [
        "from sklearn.model_selection import train_test_split\n",
        "\n",
        "xtrain, xtest, ytrain, ytest = train_test_split(data, target, train_size=0.8)"
      ],
      "metadata": {
        "id": "jws9uowrwkFp"
      },
      "execution_count": 26,
      "outputs": []
    },
    {
      "cell_type": "code",
      "source": [
        "from sklearn import neighbors\n",
        "\n",
        "knn = neighbors.KNeighborsClassifier(n_neighbors=3)\n",
        "knn.fit(xtrain, ytrain)"
      ],
      "metadata": {
        "colab": {
          "base_uri": "https://localhost:8080/"
        },
        "id": "HQefalB296ce",
        "outputId": "af21fc51-abd3-4d22-977d-d08ac672fd61"
      },
      "execution_count": 27,
      "outputs": [
        {
          "output_type": "execute_result",
          "data": {
            "text/plain": [
              "KNeighborsClassifier(n_neighbors=3)"
            ]
          },
          "metadata": {},
          "execution_count": 27
        }
      ]
    },
    {
      "cell_type": "code",
      "source": [
        "error = 1 - knn.score(xtest, ytest)\n",
        "print('Erreur: %f' % error)"
      ],
      "metadata": {
        "colab": {
          "base_uri": "https://localhost:8080/"
        },
        "id": "-g8FImr1-FkS",
        "outputId": "b2bb2832-c04e-4437-9bb6-650492cb2d6e"
      },
      "execution_count": null,
      "outputs": [
        {
          "output_type": "stream",
          "name": "stdout",
          "text": [
            "Erreur: 0.070000\n"
          ]
        }
      ]
    },
    {
      "cell_type": "code",
      "source": [
        "import matplotlib.pyplot as plt\n",
        "\n",
        "errors = []\n",
        "for k in range(1,15):\n",
        "    knn = neighbors.KNeighborsClassifier(k)\n",
        "    errors.append(100*(1 - knn.fit(xtrain, ytrain).score(xtest, ytest)))\n",
        "plt.plot(range(1,15), errors, 'o-')\n",
        "plt.show()"
      ],
      "metadata": {
        "colab": {
          "base_uri": "https://localhost:8080/",
          "height": 265
        },
        "id": "Ow1iih1f-jl_",
        "outputId": "0a14cf55-63ff-4008-b10f-d334c5202d30"
      },
      "execution_count": null,
      "outputs": [
        {
          "output_type": "display_data",
          "data": {
            "text/plain": [
              "<Figure size 432x288 with 1 Axes>"
            ],
            "image/png": "[encoded data removed]"
          },
          "metadata": {
            "needs_background": "light"
          }
        }
      ]
    },
    {
      "cell_type": "code",
      "source": [
        "# On récupère le classifieur le plus performant\n",
        "knn = neighbors.KNeighborsClassifier(3)\n",
        "knn.fit(xtrain, ytrain)\n",
        "\n",
        "# On récupère les prédictions sur les données test\n",
        "predicted = knn.predict(xtest)\n",
        "\n",
        "# On redimensionne les données sous forme d'images\n",
        "images = xtest.values.reshape((-1, 28, 28))\n",
        "\n",
        "# On selectionne un echantillon de 12 images au hasard\n",
        "select = np.random.randint(images.shape[0], size=12)\n",
        "\n",
        "# On affiche les images avec la prédiction associée\n",
        "fig,ax = plt.subplots(3,4)\n",
        "\n",
        "for index, value in enumerate(select):\n",
        "    plt.subplot(3,4,index+1)\n",
        "    plt.axis('off')\n",
        "    plt.imshow(images[value],cmap=plt.cm.gray_r,interpolation=\"nearest\")\n",
        "    plt.title('Predicted: {}'.format( predicted[value]) )\n",
        "\n",
        "plt.show()"
      ],
      "metadata": {
        "colab": {
          "base_uri": "https://localhost:8080/",
          "height": 264
        },
        "id": "lBvWSIDk-81P",
        "outputId": "4c0f12f0-350d-4117-acae-1e30539ee82a"
      },
      "execution_count": null,
      "outputs": [
        {
          "output_type": "display_data",
          "data": {
            "text/plain": [
              "<Figure size 432x288 with 12 Axes>"
            ],
            "image/png": "[encoded data removed]"
          },
          "metadata": {
            "needs_background": "light"
          }
        }
      ]
    },
    {
      "cell_type": "code",
      "source": [
        "errors = []\n",
        "for n in [10000, 20000, 40000]:\n",
        "  data = mnist.data.sample(n)\n",
        "  target = mnist.target.iloc[list(data.index)]\n",
        "  xtrain, xtest, ytrain, ytest = train_test_split(data, target, train_size=0.8)\n",
        "  knn = neighbors.KNeighborsClassifier(n_neighbors=3)\n",
        "  errors.append(100*(1 - knn.fit(xtrain, ytrain).score(xtest, ytest)))\n",
        "plt.plot([10000,20000,40000], errors, 'o-')\n",
        "plt.show()"
      ],
      "metadata": {
        "colab": {
          "base_uri": "https://localhost:8080/",
          "height": 269
        },
        "id": "mY9BRhms7eUe",
        "outputId": "8f4d7a85-b67f-482d-b9b8-713dbfc68463"
      },
      "execution_count": null,
      "outputs": [
        {
          "output_type": "display_data",
          "data": {
            "text/plain": [
              "<Figure size 432x288 with 1 Axes>"
            ],
            "image/png": "[encoded data removed]"
          },
          "metadata": {
            "needs_background": "light"
          }
        }
      ]
    },
    {
      "cell_type": "code",
      "source": [
        "def manhattan(a, b):\n",
        "    return sum(abs(val1-val2) for val1, val2 in zip(a,b))"
      ],
      "metadata": {
        "id": "UM2jKpsU2UpG"
      },
      "execution_count": null,
      "outputs": []
    },
    {
      "cell_type": "code",
      "source": [
        "data = mnist.data.sample(5000)\n",
        "target = mnist.target.iloc[list(data.index)]\n",
        "xtrain, xtest, ytrain, ytest = train_test_split(data, target, train_size=0.8)\n",
        "knn = neighbors.KNeighborsClassifier(n_neighbors=3, metric=\"manhattan\")\n",
        "knn.fit(xtrain, ytrain)\n",
        "error_manhattan = 1 - knn.score(xtest, ytest)\n",
        "print(\"error_manhattan\", error_manhattan)\n",
        "knn = neighbors.KNeighborsClassifier(n_neighbors=3)\n",
        "knn.fit(xtrain, ytrain)\n",
        "error_euclidian = 1 - knn.score(xtest, ytest)\n",
        "print(\"error_euclidian\", error_euclidian)\n",
        "\n"
      ],
      "metadata": {
        "id": "YoIgNtmnEcsZ",
        "colab": {
          "base_uri": "https://localhost:8080/"
        },
        "outputId": "3dea6eae-8384-4bf6-be77-d0ea8cfbc4b6"
      },
      "execution_count": 28,
      "outputs": [
        {
          "output_type": "stream",
          "name": "stdout",
          "text": [
            "error_manhattan 0.08299999999999996\n",
            "error_euclidian 0.08099999999999996\n"
          ]
        }
      ]
    }
  ]
}